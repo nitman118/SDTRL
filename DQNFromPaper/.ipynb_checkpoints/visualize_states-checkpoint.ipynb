{
 "cells": [
  {
   "cell_type": "code",
   "execution_count": 97,
   "metadata": {},
   "outputs": [],
   "source": [
    "import numpy as np\n",
    "import matplotlib.pyplot as plt"
   ]
  },
  {
   "cell_type": "code",
   "execution_count": 98,
   "metadata": {},
   "outputs": [],
   "source": [
    "from utility import load_state\n",
    "\n",
    "state_to_visualize = load_state(rf'saved_states\\DQN-Paper-BreakoutNoFrameskip-v4-5000-2020-06-17-19h12m48s.npy')"
   ]
  },
  {
   "cell_type": "code",
   "execution_count": 99,
   "metadata": {},
   "outputs": [
    {
     "data": {
      "text/plain": [
       "(4, 84, 84)"
      ]
     },
     "execution_count": 99,
     "metadata": {},
     "output_type": "execute_result"
    }
   ],
   "source": [
    "state_to_visualize.shape\n",
    "\n",
    "# Documents/Code/Courses/2IMM50SDT/Assignment3/SDTRL/DQNFromPaper/saved_states/DQN-Paper-BreakoutNoFrameskip-v4-5000-2020-06-17-19h12m45s.npy"
   ]
  },
  {
   "cell_type": "code",
   "execution_count": 101,
   "metadata": {},
   "outputs": [
    {
     "data": {
      "image/png": "[encoded data removed]",
      "text/plain": [
       "<Figure size 2880x2880 with 4 Axes>"
      ]
     },
     "metadata": {
      "needs_background": "light"
     },
     "output_type": "display_data"
    }
   ],
   "source": [
    "fig, ax = plt.subplots(1,4, figsize = (40,40))\n",
    "# c_map = 'Accent'\n",
    "ax[0].imshow(state_to_visualize[0])#, cmap=c_map)\n",
    "ax[1].imshow(state_to_visualize[1])#, cmap=c_map)\n",
    "ax[2].imshow(state_to_visualize[2])#, cmap=c_map)\n",
    "ax[3].imshow(state_to_visualize[3])#, cmap=c_map);\n",
    "fig.savefig('postprocessed_ind_frames.png', bbox_inches='tight')"
   ]
  },
  {
   "cell_type": "code",
   "execution_count": 89,
   "metadata": {},
   "outputs": [
    {
     "data": {
      "text/plain": [
       "\u001b[1;31mSignature:\u001b[0m \u001b[0mplt\u001b[0m\u001b[1;33m.\u001b[0m\u001b[0msavefig\u001b[0m\u001b[1;33m(\u001b[0m\u001b[1;33m*\u001b[0m\u001b[0margs\u001b[0m\u001b[1;33m,\u001b[0m \u001b[1;33m**\u001b[0m\u001b[0mkwargs\u001b[0m\u001b[1;33m)\u001b[0m\u001b[1;33m\u001b[0m\u001b[1;33m\u001b[0m\u001b[0m\n",
       "\u001b[1;31mDocstring:\u001b[0m\n",
       "Save the current figure.\n",
       "\n",
       "Call signature::\n",
       "\n",
       "  savefig(fname, dpi=None, facecolor='w', edgecolor='w',\n",
       "          orientation='portrait', papertype=None, format=None,\n",
       "          transparent=False, bbox_inches=None, pad_inches=0.1,\n",
       "          frameon=None, metadata=None)\n",
       "\n",
       "The output formats available depend on the backend being used.\n",
       "\n",
       "Parameters\n",
       "----------\n",
       "\n",
       "fname : str or PathLike or file-like object\n",
       "    A path, or a Python file-like object, or\n",
       "    possibly some backend-dependent object such as\n",
       "    `matplotlib.backends.backend_pdf.PdfPages`.\n",
       "\n",
       "    If *format* is not set, then the output format is inferred from\n",
       "    the extension of *fname*, if any, and from :rc:`savefig.format`\n",
       "    otherwise.  If *format* is set, it determines the output format.\n",
       "\n",
       "    Hence, if *fname* is not a path or has no extension, remember to\n",
       "    specify *format* to ensure that the correct backend is used.\n",
       "\n",
       "Other Parameters\n",
       "----------------\n",
       "\n",
       "dpi : [ *None* | scalar > 0 | 'figure' ]\n",
       "    The resolution in dots per inch.  If *None*, defaults to\n",
       "    :rc:`savefig.dpi`.  If 'figure', uses the figure's dpi value.\n",
       "\n",
       "quality : [ *None* | 1 <= scalar <= 100 ]\n",
       "    The image quality, on a scale from 1 (worst) to 95 (best).\n",
       "    Applicable only if *format* is jpg or jpeg, ignored otherwise.\n",
       "    If *None*, defaults to :rc:`savefig.jpeg_quality` (95 by default).\n",
       "    Values above 95 should be avoided; 100 completely disables the\n",
       "    JPEG quantization stage.\n",
       "\n",
       "optimize : bool\n",
       "    If *True*, indicates that the JPEG encoder should make an extra\n",
       "    pass over the image in order to select optimal encoder settings.\n",
       "    Applicable only if *format* is jpg or jpeg, ignored otherwise.\n",
       "    Is *False* by default.\n",
       "\n",
       "progressive : bool\n",
       "    If *True*, indicates that this image should be stored as a\n",
       "    progressive JPEG file. Applicable only if *format* is jpg or\n",
       "    jpeg, ignored otherwise. Is *False* by default.\n",
       "\n",
       "facecolor : color spec or None, optional\n",
       "    The facecolor of the figure; if *None*, defaults to\n",
       "    :rc:`savefig.facecolor`.\n",
       "\n",
       "edgecolor : color spec or None, optional\n",
       "    The edgecolor of the figure; if *None*, defaults to\n",
       "    :rc:`savefig.edgecolor`\n",
       "\n",
       "orientation : {'landscape', 'portrait'}\n",
       "    Currently only supported by the postscript backend.\n",
       "\n",
       "papertype : str\n",
       "    One of 'letter', 'legal', 'executive', 'ledger', 'a0' through\n",
       "    'a10', 'b0' through 'b10'. Only supported for postscript\n",
       "    output.\n",
       "\n",
       "format : str\n",
       "    The file format, e.g. 'png', 'pdf', 'svg', ... The behavior when\n",
       "    this is unset is documented under *fname*.\n",
       "\n",
       "transparent : bool\n",
       "    If *True*, the axes patches will all be transparent; the\n",
       "    figure patch will also be transparent unless facecolor\n",
       "    and/or edgecolor are specified via kwargs.\n",
       "    This is useful, for example, for displaying\n",
       "    a plot on top of a colored background on a web page.  The\n",
       "    transparency of these patches will be restored to their\n",
       "    original values upon exit of this function.\n",
       "\n",
       "bbox_inches : str or `~matplotlib.transforms.Bbox`, optional\n",
       "    Bbox in inches. Only the given portion of the figure is\n",
       "    saved. If 'tight', try to figure out the tight bbox of\n",
       "    the figure. If None, use savefig.bbox\n",
       "\n",
       "pad_inches : scalar, optional\n",
       "    Amount of padding around the figure when bbox_inches is\n",
       "    'tight'. If None, use savefig.pad_inches\n",
       "\n",
       "bbox_extra_artists : list of `~matplotlib.artist.Artist`, optional\n",
       "    A list of extra artists that will be considered when the\n",
       "    tight bbox is calculated.\n",
       "\n",
       "metadata : dict, optional\n",
       "    Key/value pairs to store in the image metadata. The supported keys\n",
       "    and defaults depend on the image format and backend:\n",
       "\n",
       "    - 'png' with Agg backend: See the parameter ``metadata`` of\n",
       "      `~.FigureCanvasAgg.print_png`.\n",
       "    - 'pdf' with pdf backend: See the parameter ``metadata`` of\n",
       "      `~.backend_pdf.PdfPages`.\n",
       "    - 'eps' and 'ps' with PS backend: Only 'Creator' is supported.\n",
       "\n",
       "pil_kwargs : dict, optional\n",
       "    Additional keyword arguments that are passed to `PIL.Image.save`\n",
       "    when saving the figure.  Only applicable for formats that are saved\n",
       "    using Pillow, i.e. JPEG, TIFF, and (if the keyword is set to a\n",
       "    non-None value) PNG.\n",
       "\u001b[1;31mFile:\u001b[0m      c:\\users\\nitis\\anaconda3\\lib\\site-packages\\matplotlib\\pyplot.py\n",
       "\u001b[1;31mType:\u001b[0m      function\n"
      ]
     },
     "metadata": {},
     "output_type": "display_data"
    }
   ],
   "source": [
    "plt.savefig?"
   ]
  },
  {
   "cell_type": "code",
   "execution_count": 84,
   "metadata": {},
   "outputs": [
    {
     "data": {
      "text/plain": [
       "(84, 84)"
      ]
     },
     "execution_count": 84,
     "metadata": {},
     "output_type": "execute_result"
    }
   ],
   "source": [
    "summed_state=(state_to_visualize[0]+state_to_visualize[1]+state_to_visualize[2]+state_to_visualize[3])\n",
    "summed_state.shape"
   ]
  },
  {
   "cell_type": "code",
   "execution_count": 85,
   "metadata": {},
   "outputs": [],
   "source": [
    "reshaped = summed_state[np.newaxis]"
   ]
  },
  {
   "cell_type": "code",
   "execution_count": 86,
   "metadata": {},
   "outputs": [
    {
     "data": {
      "text/plain": [
       "(1, 84, 84)"
      ]
     },
     "execution_count": 86,
     "metadata": {},
     "output_type": "execute_result"
    }
   ],
   "source": [
    "reshaped.shape"
   ]
  },
  {
   "cell_type": "code",
   "execution_count": 103,
   "metadata": {},
   "outputs": [
    {
     "data": {
      "image/png": "[encoded data removed]",
      "text/plain": [
       "<Figure size 432x288 with 1 Axes>"
      ]
     },
     "metadata": {
      "needs_background": "light"
     },
     "output_type": "display_data"
    }
   ],
   "source": [
    "plt.imshow(summed_state, cmap='Accent')\n",
    "plt.savefig('stacked_frames.png', bbox_inches='tight')"
   ]
  },
  {
   "cell_type": "code",
   "execution_count": null,
   "metadata": {},
   "outputs": [],
   "source": []
  }
 ],
 "metadata": {
  "kernelspec": {
   "display_name": "Python 3",
   "language": "python",
   "name": "python3"
  },
  "language_info": {
   "codemirror_mode": {
    "name": "ipython",
    "version": 3
   },
   "file_extension": ".py",
   "mimetype": "text/x-python",
   "name": "python",
   "nbconvert_exporter": "python",
   "pygments_lexer": "ipython3",
   "version": "3.7.6"
  }
 },
 "nbformat": 4,
 "nbformat_minor": 4
}
